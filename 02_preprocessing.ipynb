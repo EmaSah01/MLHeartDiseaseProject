{
 "cells": [
  {
   "cell_type": "code",
   "execution_count": 24,
   "id": "3f89fd09",
   "metadata": {},
   "outputs": [],
   "source": [
    "import pandas as pd\n",
    "from sklearn.model_selection import train_test_split\n",
    "from sklearn.preprocessing import StandardScaler\n",
    "from sklearn.preprocessing import OneHotEncoder\n",
    "from sklearn.compose import ColumnTransformer\n",
    "from sklearn.pipeline import Pipeline\n",
    "import numpy as np\n",
    "import joblib\n",
    "import seaborn as sns\n",
    "import matplotlib.pyplot as plt\n",
    "\n",
    "\n",
    "df = pd.read_csv(\"heart.csv\")"
   ]
  },
  {
   "cell_type": "code",
   "execution_count": 16,
   "id": "9e9e0e6f",
   "metadata": {},
   "outputs": [],
   "source": [
    "df['RestingBP'] = df['RestingBP'].replace(0, df['RestingBP'].median())\n",
    "df['Cholesterol'] = df['Cholesterol'].replace(0, df['Cholesterol'].median())"
   ]
  },
  {
   "cell_type": "code",
   "execution_count": 17,
   "id": "d47d4c82",
   "metadata": {},
   "outputs": [],
   "source": [
    "X = df.drop(\"HeartDisease\", axis=1)\n",
    "y = df[\"HeartDisease\"]\n"
   ]
  },
  {
   "cell_type": "code",
   "execution_count": 18,
   "id": "d6aa2f38",
   "metadata": {},
   "outputs": [],
   "source": [
    "numeric_cols = X.select_dtypes(include=[\"int64\", \"float64\"]).columns\n",
    "categorical_cols = X.select_dtypes(include=\"object\").columns\n",
    "# odvajamo numericke i logicke kolone - jer cemo skalirati numericke i kodirati kategoricke kolone"
   ]
  },
  {
   "cell_type": "code",
   "execution_count": 19,
   "id": "6107aa62",
   "metadata": {},
   "outputs": [],
   "source": [
    "# skaliranje i kodiranje\n",
    "numeric_transformer = StandardScaler()\n",
    "categorical_transformer = OneHotEncoder(drop='first')\n",
    "\n",
    "preprocessor = ColumnTransformer(\n",
    "    transformers=[\n",
    "        ('num', numeric_transformer, numeric_cols),\n",
    "        ('cat', categorical_transformer, categorical_cols)\n",
    "    ])\n"
   ]
  },
  {
   "cell_type": "code",
   "execution_count": 20,
   "id": "3a7f7ba0",
   "metadata": {},
   "outputs": [],
   "source": [
    "X_train, X_test, y_train, y_test = train_test_split(\n",
    "    X, y, test_size=0.2, random_state=42, stratify=y\n",
    ")\n",
    "\n",
    "\n",
    "# 80% ulaznih podataka za treniranje modela\n",
    "# 20% ulaznih podataka za testiranje modela"
   ]
  },
  {
   "cell_type": "code",
   "execution_count": 21,
   "id": "696ffcda",
   "metadata": {},
   "outputs": [],
   "source": [
    "# 🏗️ Fit transform train, transform test\n",
    "X_train_processed = preprocessor.fit_transform(X_train)\n",
    "X_test_processed = preprocessor.transform(X_test)\n",
    "\n",
    "\n",
    "# fit transfrom uci kako da skalira i kodira podatke\n",
    "# transform koristi naucene postavke da isto transformise test podatke\n"
   ]
  },
  {
   "cell_type": "code",
   "execution_count": null,
   "id": "36490077",
   "metadata": {},
   "outputs": [
    {
     "name": "stdout",
     "output_type": "stream",
     "text": [
      "              Feature       VIF\n",
      "14        ST_Slope_Up  4.875019\n",
      "13      ST_Slope_Flat  4.541284\n",
      "6               Sex_M  4.408214\n",
      "10  RestingECG_Normal  3.943031\n",
      "12   ExerciseAngina_Y  2.538123\n",
      "11      RestingECG_ST  1.972557\n",
      "7   ChestPainType_ATA  1.770659\n",
      "4               MaxHR  1.546242\n",
      "8   ChestPainType_NAP  1.540727\n",
      "5             Oldpeak  1.454105\n",
      "0                 Age  1.382737\n",
      "9    ChestPainType_TA  1.155632\n",
      "3           FastingBS  1.113203\n",
      "1           RestingBP  1.102688\n",
      "2         Cholesterol  1.064634\n"
     ]
    }
   ],
   "source": [
    "from sklearn.compose import ColumnTransformer\n",
    "from sklearn.preprocessing import StandardScaler, OneHotEncoder\n",
    "from statsmodels.stats.outliers_influence import variance_inflation_factor\n",
    "import pandas as pd\n",
    "\n",
    "X_train_transformed = preprocessor.fit_transform(X_train)\n",
    "\n",
    "\n",
    "ohe = preprocessor.named_transformers_['cat']\n",
    "ohe_features = ohe.get_feature_names_out(categorical_cols)\n",
    "\n",
    "\n",
    "feature_names = list(numeric_cols) + list(ohe_features)\n",
    "\n",
    "X_vif = pd.DataFrame(X_train_transformed, columns=feature_names)\n",
    "\n",
    "\n",
    "vif_data = pd.DataFrame()\n",
    "vif_data[\"Feature\"] = X_vif.columns\n",
    "vif_data[\"VIF\"] = [variance_inflation_factor(X_vif.values, i) for i in range(X_vif.shape[1])]\n",
    "\n",
    "\n",
    "print(vif_data.sort_values(\"VIF\", ascending=False))\n",
    "\n",
    "\n",
    "# VIF < 5\n",
    "# nema ozbiljne multikolinearnosti medju atributima\n"
   ]
  },
  {
   "cell_type": "code",
   "execution_count": 22,
   "id": "9959a802",
   "metadata": {},
   "outputs": [
    {
     "data": {
      "text/plain": [
       "['train_test_processed.pkl']"
      ]
     },
     "execution_count": 22,
     "metadata": {},
     "output_type": "execute_result"
    }
   ],
   "source": [
    "import joblib\n",
    "\n",
    "joblib.dump(df, \"heart_clean_df.pkl\")\n",
    "joblib.dump((X_train_processed, X_test_processed, y_train, y_test), \"train_test_processed.pkl\")\n"
   ]
  }
 ],
 "metadata": {
  "kernelspec": {
   "display_name": "Python 3",
   "language": "python",
   "name": "python3"
  },
  "language_info": {
   "codemirror_mode": {
    "name": "ipython",
    "version": 3
   },
   "file_extension": ".py",
   "mimetype": "text/x-python",
   "name": "python",
   "nbconvert_exporter": "python",
   "pygments_lexer": "ipython3",
   "version": "3.13.3"
  }
 },
 "nbformat": 4,
 "nbformat_minor": 5
}
